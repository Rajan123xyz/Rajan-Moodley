{
 "cells": [
  {
   "cell_type": "markdown",
   "id": "6da35ff5",
   "metadata": {},
   "source": [
    "Neural network from scratch by Rajan Moodley"
   ]
  },
  {
   "cell_type": "code",
   "execution_count": 15,
   "id": "bc5f9be7",
   "metadata": {},
   "outputs": [],
   "source": [
    "import numpy as np\n",
    "import pandas as pd\n",
    "from matplotlib import pyplot as plt\n",
    "\n",
    "data = pd.read_csv('mnist_train.csv')"
   ]
  },
  {
   "cell_type": "code",
   "execution_count": 2,
   "id": "922678ea",
   "metadata": {},
   "outputs": [
    {
     "name": "stdout",
     "output_type": "stream",
     "text": [
      "   5  0  0.1  0.2  0.3  0.4  0.5  0.6  0.7  0.8  ...  0.608  0.609  0.610  \\\n",
      "0  0  0    0    0    0    0    0    0    0    0  ...      0      0      0   \n",
      "1  4  0    0    0    0    0    0    0    0    0  ...      0      0      0   \n",
      "2  1  0    0    0    0    0    0    0    0    0  ...      0      0      0   \n",
      "3  9  0    0    0    0    0    0    0    0    0  ...      0      0      0   \n",
      "4  2  0    0    0    0    0    0    0    0    0  ...      0      0      0   \n",
      "\n",
      "   0.611  0.612  0.613  0.614  0.615  0.616  0.617  \n",
      "0      0      0      0      0      0      0      0  \n",
      "1      0      0      0      0      0      0      0  \n",
      "2      0      0      0      0      0      0      0  \n",
      "3      0      0      0      0      0      0      0  \n",
      "4      0      0      0      0      0      0      0  \n",
      "\n",
      "[5 rows x 785 columns]\n"
     ]
    }
   ],
   "source": [
    "print(data.head(5))"
   ]
  },
  {
   "cell_type": "code",
   "execution_count": 16,
   "id": "a7d0d71e",
   "metadata": {},
   "outputs": [],
   "source": [
    "data = np.array(data)\n",
    "m, n = data.shape\n",
    "np.random.shuffle(data)\n",
    "\n",
    "data_dev = data[0:1000].T\n",
    "Y_dev = data_dev[0]\n",
    "X_dev = data_dev[1:n]\n",
    "X_dev = X_dev/255\n",
    "\n",
    "data_train = data[1000:m].T\n",
    "Y_train = data_train[0]\n",
    "X_train = data_train[1:n]\n",
    "X_train = X_train/255\n",
    "_,m_train = X_train.shape"
   ]
  },
  {
   "cell_type": "code",
   "execution_count": 17,
   "id": "eb09079a",
   "metadata": {},
   "outputs": [
    {
     "data": {
      "text/plain": [
       "array([9, 7, 6, ..., 6, 4, 1], dtype=int64)"
      ]
     },
     "execution_count": 17,
     "metadata": {},
     "output_type": "execute_result"
    }
   ],
   "source": [
    "Y_train\n"
   ]
  },
  {
   "cell_type": "code",
   "execution_count": 24,
   "id": "4fd06549",
   "metadata": {},
   "outputs": [],
   "source": [
    "#Step 1 Feeding images into nn\n",
    "def init_params():\n",
    "    W1 = np.random.rand(10, 784) -0.5\n",
    "    b1 = np.random.rand(10, 1) -0.5\n",
    "    W2 = np.random.rand(10, 10) -0.5\n",
    "    b2 = np.random.rand(10, 1) -0.5\n",
    "    return W1, b1, W2, b2\n",
    "\n",
    "#ReLU who know's\n",
    "def ReLU(Z):\n",
    "    return np.maximum(Z, 0)\n",
    "\n",
    "#Step 3 activation function\n",
    "def softmax(Z):\n",
    "    A = np.exp(Z) / sum(np.exp(Z))\n",
    "    return A\n",
    "\n",
    "#Step 4 forward propogation\n",
    "def forward_prop(W1, b1, W2, b2, X):\n",
    "    Z1 = W1.dot(X) + b1\n",
    "    A1 = ReLU(Z1)\n",
    "    Z2 = W2.dot(A1) + b2\n",
    "    A2 = softmax(Z2)\n",
    "    return Z1, A1, Z2, A2\n",
    "\n",
    "#Step 5 backpropogation of ReLU\n",
    "def ReLU_deriv(Z):\n",
    "    return Z > 0\n",
    "\n",
    "#Step 6 hot hot hot, creates a matrix\n",
    "def one_hot(Y):\n",
    "    one_hot_Y = np.zeros((Y.size, Y.max() +1))\n",
    "    one_hot_Y[np.arange(Y.size), Y] = 1\n",
    "    one_hot_Y = one_hot_Y.T #flips the matrix columns to rows\n",
    "    return one_hot_Y\n",
    "\n",
    "#Step 7 backward propogation\n",
    "def backward_prop(Z1, A1, Z2, A2, W1, W2, X, Y):\n",
    "    one_hot_Y = one_hot(Y)\n",
    "    dZ2 = A2 - one_hot_Y\n",
    "    dW2 = 1 / m * dZ2.dot(A1.T)\n",
    "    db2 = 1 / m * np.sum(dZ2)\n",
    "    dZ1 = W2.T.dot(dZ2) * ReLU_deriv(Z1)\n",
    "    dW1 = 1 / m * dZ1.dot(X.T)\n",
    "    db1 = 1 / m * np.sum(dZ1)\n",
    "    return dW1, db1, dW2, db2\n",
    "\n",
    "#Step 8 Update parameters for forward prop\n",
    "def update_params(W1, b1, W2, b2, dW1, db1, dW2, db2, alpha):\n",
    "    W1 = W1 - alpha * dW1\n",
    "    b1 = b1 - alpha * db1\n",
    "    W2 = W2 - alpha * dW2\n",
    "    b2 = b2 - alpha * db2\n",
    "    return W1, b1, W2, b2\n"
   ]
  },
  {
   "cell_type": "code",
   "execution_count": 29,
   "id": "284fd94e",
   "metadata": {},
   "outputs": [],
   "source": [
    "#Step 9 Predictions\n",
    "def get_predictions(A2):\n",
    "    return np.argmax(A2, 0)\n",
    "\n",
    "def get_accuracy(predictions, Y):\n",
    "    print(predictions, Y)\n",
    "    return np.sum(predictions == Y) / Y.size\n",
    "\n",
    "def gradient_descent(X, Y, alpha, iterations):\n",
    "    W1, b1, W2, b2 = init_params()\n",
    "    for i in range(iterations):\n",
    "        Z1, A1, Z2, A2 = forward_prop(W1, b1, W2, b2, X)\n",
    "        dW1, db1, dW2, db2 = backward_prop(Z1, A1, Z2, A2, W1, W2, X, Y)\n",
    "        W1, b1, W2, b2 = update_params(W1, b1, W2, b2, dW1, db1, dW2, db2, alpha)\n",
    "        if i % 10 == 0:\n",
    "            print(\"Iteration:\", i)\n",
    "            predictions = get_predictions(A2)\n",
    "            print(get_accuracy(predictions, Y))\n",
    "    return W1, b1, W2, b2"
   ]
  },
  {
   "cell_type": "code",
   "execution_count": 38,
   "id": "390aad86",
   "metadata": {},
   "outputs": [
    {
     "name": "stdout",
     "output_type": "stream",
     "text": [
      "Iteration: 0\n",
      "[9 0 0 ... 9 7 3] [9 7 6 ... 6 4 1]\n",
      "0.11917151138154884\n",
      "Iteration: 10\n",
      "[5 7 0 ... 6 2 1] [9 7 6 ... 6 4 1]\n",
      "0.27334361599349144\n",
      "Iteration: 20\n",
      "[9 7 0 ... 6 2 1] [9 7 6 ... 6 4 1]\n",
      "0.41695621959694235\n",
      "Iteration: 30\n",
      "[9 7 0 ... 6 2 1] [9 7 6 ... 6 4 1]\n",
      "0.500652553433109\n",
      "Iteration: 40\n",
      "[9 7 0 ... 6 2 1] [9 7 6 ... 6 4 1]\n",
      "0.5550602552585637\n",
      "Iteration: 50\n",
      "[9 7 0 ... 6 2 1] [9 7 6 ... 6 4 1]\n",
      "0.5946371972406312\n",
      "Iteration: 60\n",
      "[9 7 0 ... 6 2 1] [9 7 6 ... 6 4 1]\n",
      "0.6253665316361294\n",
      "Iteration: 70\n",
      "[9 7 0 ... 6 2 1] [9 7 6 ... 6 4 1]\n",
      "0.6498245732978525\n",
      "Iteration: 80\n",
      "[9 7 0 ... 6 2 1] [9 7 6 ... 6 4 1]\n",
      "0.6694181257309446\n",
      "Iteration: 90\n",
      "[9 7 0 ... 6 2 1] [9 7 6 ... 6 4 1]\n",
      "0.6872658858624723\n",
      "Iteration: 100\n",
      "[9 7 0 ... 6 4 1] [9 7 6 ... 6 4 1]\n",
      "0.7021644434651435\n",
      "Iteration: 110\n",
      "[9 7 0 ... 6 4 1] [9 7 6 ... 6 4 1]\n",
      "0.7153680570857133\n",
      "Iteration: 120\n",
      "[9 7 0 ... 6 4 1] [9 7 6 ... 6 4 1]\n",
      "0.7263004457702673\n",
      "Iteration: 130\n",
      "[9 7 0 ... 6 4 1] [9 7 6 ... 6 4 1]\n",
      "0.7358429803894981\n",
      "Iteration: 140\n",
      "[9 7 0 ... 6 4 1] [9 7 6 ... 6 4 1]\n",
      "0.7447922846149935\n",
      "Iteration: 150\n",
      "[9 7 0 ... 6 4 1] [9 7 6 ... 6 4 1]\n",
      "0.7532670045255004\n",
      "Iteration: 160\n",
      "[9 7 0 ... 6 4 1] [9 7 6 ... 6 4 1]\n",
      "0.7608942524449567\n",
      "Iteration: 170\n",
      "[9 7 0 ... 6 4 1] [9 7 6 ... 6 4 1]\n",
      "0.7669960507805217\n",
      "Iteration: 180\n",
      "[9 7 0 ... 6 4 1] [9 7 6 ... 6 4 1]\n",
      "0.7728436075187715\n",
      "Iteration: 190\n",
      "[9 7 0 ... 6 4 1] [9 7 6 ... 6 4 1]\n",
      "0.778301327141138\n",
      "Iteration: 200\n",
      "[9 7 0 ... 6 4 1] [9 7 6 ... 6 4 1]\n",
      "0.783148866929948\n",
      "Iteration: 210\n",
      "[9 7 0 ... 6 4 1] [9 7 6 ... 6 4 1]\n",
      "0.7875048729639486\n",
      "Iteration: 220\n",
      "[9 7 0 ... 6 4 1] [9 7 6 ... 6 4 1]\n",
      "0.7920981711554433\n",
      "Iteration: 230\n",
      "[9 7 0 ... 6 4 1] [9 7 6 ... 6 4 1]\n",
      "0.7964202783098019\n",
      "Iteration: 240\n",
      "[9 7 0 ... 6 4 1] [9 7 6 ... 6 4 1]\n",
      "0.8005220427464872\n",
      "Iteration: 250\n",
      "[9 7 0 ... 6 4 1] [9 7 6 ... 6 4 1]\n",
      "0.8037593857523009\n",
      "Iteration: 260\n",
      "[9 7 0 ... 6 4 1] [9 7 6 ... 6 4 1]\n",
      "0.8068950321191884\n",
      "Iteration: 270\n",
      "[9 7 0 ... 6 4 1] [9 7 6 ... 6 4 1]\n",
      "0.8096408413701928\n",
      "Iteration: 280\n",
      "[9 7 0 ... 6 4 1] [9 7 6 ... 6 4 1]\n",
      "0.8126239427786912\n",
      "Iteration: 290\n",
      "[9 7 0 ... 6 4 1] [9 7 6 ... 6 4 1]\n",
      "0.8154375497889794\n",
      "Iteration: 300\n",
      "[9 7 0 ... 6 4 1] [9 7 6 ... 6 4 1]\n",
      "0.8184037017576569\n",
      "Iteration: 310\n",
      "[9 7 0 ... 6 4 1] [9 7 6 ... 6 4 1]\n",
      "0.8206918761334938\n",
      "Iteration: 320\n",
      "[9 7 0 ... 6 4 1] [9 7 6 ... 6 4 1]\n",
      "0.8229631010695097\n",
      "Iteration: 330\n",
      "[9 7 0 ... 6 4 1] [9 7 6 ... 6 4 1]\n",
      "0.8252851743249886\n",
      "Iteration: 340\n",
      "[9 7 0 ... 6 4 1] [9 7 6 ... 6 4 1]\n",
      "0.8273360565433312\n",
      "Iteration: 350\n",
      "[9 7 0 ... 6 4 1] [9 7 6 ... 6 4 1]\n",
      "0.8292682926829268\n",
      "Iteration: 360\n",
      "[9 7 0 ... 6 4 1] [9 7 6 ... 6 4 1]\n",
      "0.8313361243410905\n",
      "Iteration: 370\n",
      "[9 7 0 ... 6 4 1] [9 7 6 ... 6 4 1]\n",
      "0.8332175121612231\n",
      "Iteration: 380\n",
      "[9 7 0 ... 6 4 1] [9 7 6 ... 6 4 1]\n",
      "0.8347429617451143\n",
      "Iteration: 390\n",
      "[9 7 0 ... 6 4 1] [9 7 6 ... 6 4 1]\n",
      "0.8363870574077527\n",
      "Iteration: 400\n",
      "[9 7 0 ... 6 4 1] [9 7 6 ... 6 4 1]\n",
      "0.8381328497093171\n",
      "Iteration: 410\n",
      "[9 7 0 ... 6 4 1] [9 7 6 ... 6 4 1]\n",
      "0.8395057543348192\n",
      "Iteration: 420\n",
      "[9 7 0 ... 6 4 1] [9 7 6 ... 6 4 1]\n",
      "0.8410651027983526\n",
      "Iteration: 430\n",
      "[9 7 0 ... 6 4 1] [9 7 6 ... 6 4 1]\n",
      "0.8426922490211699\n",
      "Iteration: 440\n",
      "[9 7 0 ... 6 4 1] [9 7 6 ... 6 4 1]\n",
      "0.8435905693316836\n",
      "Iteration: 450\n",
      "[9 7 0 ... 6 4 1] [9 7 6 ... 6 4 1]\n",
      "0.8445736368413024\n",
      "Iteration: 460\n",
      "[9 7 0 ... 6 4 1] [9 7 6 ... 6 4 1]\n",
      "0.8459634909066255\n",
      "Iteration: 470\n",
      "[9 7 0 ... 6 4 1] [9 7 6 ... 6 4 1]\n",
      "0.8473024966524856\n",
      "Iteration: 480\n",
      "[9 7 0 ... 6 4 1] [9 7 6 ... 6 4 1]\n",
      "0.8486245529585247\n",
      "Iteration: 490\n",
      "[9 7 0 ... 6 4 1] [9 7 6 ... 6 4 1]\n",
      "0.8496754182274275\n"
     ]
    }
   ],
   "source": [
    "W1, b1, W2, b2 = gradient_descent(X_train, Y_train, 0.10, 500)"
   ]
  },
  {
   "cell_type": "markdown",
   "id": "fcdb9184",
   "metadata": {},
   "source": [
    "85% accuracy OMG!"
   ]
  },
  {
   "cell_type": "code",
   "execution_count": 39,
   "id": "b9fac7c5",
   "metadata": {},
   "outputs": [],
   "source": [
    "def make_predictions(X, W1, b1, W2, b2):\n",
    "    _, _, _, A2 = forward_prop(W1, b1, W2, b2, X)\n",
    "    predictions = get_predictions(A2)\n",
    "    return predictions\n",
    "\n",
    "def test_prediction(index, W1, b1, W2, b2):\n",
    "    current_image = X_train[:, index, None]\n",
    "    prediction = make_predictions(X_train[:, index, None], W1, b1, W2, b2)\n",
    "    label = Y_train[index]\n",
    "    print(\"Prediction: \", prediction)\n",
    "    print(\"Label: \", label)\n",
    "    \n",
    "    current_image = current_image.reshape((28, 28)) * 255\n",
    "    plt.gray()\n",
    "    plt.imshow(current_image, interpolation='nearest')\n",
    "    plt.show()"
   ]
  },
  {
   "cell_type": "markdown",
   "id": "89209f24",
   "metadata": {},
   "source": [
    "Let's look at some examples"
   ]
  },
  {
   "cell_type": "code",
   "execution_count": 40,
   "id": "c79b1618",
   "metadata": {},
   "outputs": [
    {
     "name": "stdout",
     "output_type": "stream",
     "text": [
      "Prediction:  [9]\n",
      "Label:  9\n"
     ]
    },
    {
     "data": {
      "image/png": "[encoded data removed]",
      "text/plain": [
       "<Figure size 432x288 with 1 Axes>"
      ]
     },
     "metadata": {
      "needs_background": "light"
     },
     "output_type": "display_data"
    },
    {
     "name": "stdout",
     "output_type": "stream",
     "text": [
      "Prediction:  [7]\n",
      "Label:  7\n"
     ]
    },
    {
     "data": {
      "image/png": "[encoded data removed]",
      "text/plain": [
       "<Figure size 432x288 with 1 Axes>"
      ]
     },
     "metadata": {
      "needs_background": "light"
     },
     "output_type": "display_data"
    },
    {
     "name": "stdout",
     "output_type": "stream",
     "text": [
      "Prediction:  [0]\n",
      "Label:  6\n"
     ]
    },
    {
     "data": {
      "image/png": "[encoded data removed]",
      "text/plain": [
       "<Figure size 432x288 with 1 Axes>"
      ]
     },
     "metadata": {
      "needs_background": "light"
     },
     "output_type": "display_data"
    },
    {
     "name": "stdout",
     "output_type": "stream",
     "text": [
      "Prediction:  [6]\n",
      "Label:  6\n"
     ]
    },
    {
     "data": {
      "image/png": "[encoded data removed]",
      "text/plain": [
       "<Figure size 432x288 with 1 Axes>"
      ]
     },
     "metadata": {
      "needs_background": "light"
     },
     "output_type": "display_data"
    }
   ],
   "source": [
    "test_prediction(0, W1, b1, W2, b2)\n",
    "test_prediction(1, W1, b1, W2, b2)\n",
    "test_prediction(2, W1, b1, W2, b2)\n",
    "test_prediction(3, W1, b1, W2, b2)"
   ]
  },
  {
   "cell_type": "markdown",
   "id": "557499a6",
   "metadata": {},
   "source": [
    "Commit to Git\n"
   ]
  },
  {
   "cell_type": "code",
   "execution_count": 9,
   "id": "7cc80ecd",
   "metadata": {},
   "outputs": [],
   "source": [
    "import os \n",
    "os.chdir(r\"C:\\Program Files\\Git\")"
   ]
  },
  {
   "cell_type": "code",
   "execution_count": 11,
   "id": "2dd01d2e",
   "metadata": {},
   "outputs": [
    {
     "name": "stderr",
     "output_type": "stream",
     "text": [
      "'git' is not recognized as an internal or external command,\n",
      "operable program or batch file.\n",
      "'git' is not recognized as an internal or external command,\n",
      "operable program or batch file.\n",
      "'git' is not recognized as an internal or external command,\n",
      "operable program or batch file.\n"
     ]
    }
   ],
   "source": [
    "!git init\n",
    "!git config --global user.name \"Rajan Moodley\"\n",
    "!git config --global user.email \"rajan.moodley.inc.com\"\n"
   ]
  },
  {
   "cell_type": "code",
   "execution_count": 13,
   "id": "a045a5bd",
   "metadata": {},
   "outputs": [
    {
     "name": "stderr",
     "output_type": "stream",
     "text": [
      "'git' is not recognized as an internal or external command,\n",
      "operable program or batch file.\n"
     ]
    }
   ],
   "source": [
    "!git remote add origin https://github.com/Rajan123xyz/Rajan-Moodley.git\n"
   ]
  },
  {
   "cell_type": "code",
   "execution_count": null,
   "id": "7ab5e2f3",
   "metadata": {},
   "outputs": [],
   "source": [
    "!git add 'MNIST Neural network from scratch.ipynb'\n"
   ]
  },
  {
   "cell_type": "code",
   "execution_count": null,
   "id": "8756f3db",
   "metadata": {},
   "outputs": [],
   "source": [
    "!git commit -m \"Add MNIST classification neural network model\"\n"
   ]
  },
  {
   "cell_type": "code",
   "execution_count": null,
   "id": "16f000ac",
   "metadata": {},
   "outputs": [],
   "source": [
    "!git commit -m \"Add MNIST classification neural network model\"\n"
   ]
  }
 ],
 "metadata": {
  "kernelspec": {
   "display_name": "Python 3 (ipykernel)",
   "language": "python",
   "name": "python3"
  },
  "language_info": {
   "codemirror_mode": {
    "name": "ipython",
    "version": 3
   },
   "file_extension": ".py",
   "mimetype": "text/x-python",
   "name": "python",
   "nbconvert_exporter": "python",
   "pygments_lexer": "ipython3",
   "version": "3.9.12"
  }
 },
 "nbformat": 4,
 "nbformat_minor": 5
}
